{
 "cells": [
  {
   "cell_type": "markdown",
   "metadata": {},
   "source": [
    "# 1. Create a 3x3x3 array with random values "
   ]
  },
  {
   "cell_type": "code",
   "execution_count": 1,
   "metadata": {},
   "outputs": [
    {
     "data": {
      "text/plain": [
       "array([[[0.82511565, 0.50157992, 0.31114549],\n",
       "        [0.00210691, 0.06096688, 0.85494077],\n",
       "        [0.35744246, 0.61390942, 0.34881408]],\n",
       "\n",
       "       [[0.43835248, 0.13539883, 0.4649369 ],\n",
       "        [0.58290913, 0.62204025, 0.3256297 ],\n",
       "        [0.22772031, 0.24767279, 0.18443119]],\n",
       "\n",
       "       [[0.94142317, 0.43403344, 0.45341687],\n",
       "        [0.23088904, 0.25875451, 0.92625263],\n",
       "        [0.85914273, 0.93134596, 0.7210098 ]]])"
      ]
     },
     "execution_count": 1,
     "metadata": {},
     "output_type": "execute_result"
    }
   ],
   "source": [
    "import numpy as np\n",
    "\n",
    "a = np.random.random((3,3,3))\n",
    "a"
   ]
  },
  {
   "cell_type": "markdown",
   "metadata": {},
   "source": [
    "# 2.Create a 5x5 matrix with values 1,2,3,4 just below the diagonal"
   ]
  },
  {
   "cell_type": "code",
   "execution_count": 2,
   "metadata": {},
   "outputs": [
    {
     "data": {
      "text/plain": [
       "array([[1, 0, 0, 0, 0],\n",
       "       [0, 2, 0, 0, 0],\n",
       "       [0, 0, 3, 0, 0],\n",
       "       [0, 0, 0, 4, 0],\n",
       "       [0, 0, 0, 0, 5]])"
      ]
     },
     "execution_count": 2,
     "metadata": {},
     "output_type": "execute_result"
    }
   ],
   "source": [
    "a = np.diag([1, 2, 3, 4, 5])\n",
    "a"
   ]
  },
  {
   "cell_type": "markdown",
   "metadata": {},
   "source": [
    "# 3.Create a 8x8 matrix and fill it with a checkerboard pattern"
   ]
  },
  {
   "cell_type": "code",
   "execution_count": 3,
   "metadata": {},
   "outputs": [
    {
     "name": "stdout",
     "output_type": "stream",
     "text": [
      "[[0 1 0 1 0 1 0 1]\n",
      " [1 0 1 0 1 0 1 0]\n",
      " [0 1 0 1 0 1 0 1]\n",
      " [1 0 1 0 1 0 1 0]\n",
      " [0 1 0 1 0 1 0 1]\n",
      " [1 0 1 0 1 0 1 0]\n",
      " [0 1 0 1 0 1 0 1]\n",
      " [1 0 1 0 1 0 1 0]]\n"
     ]
    }
   ],
   "source": [
    "def chk_brd(n): \n",
    "    result = [] \n",
    "    for i in range(n): \n",
    "        result.append(list(np.tile([0,1],int(n/2))) if i%2==0 else list(np.tile([1,0],int(n/2)))) \n",
    "    print(np.array(result)) \n",
    "  \n",
    "\n",
    "n = 8\n",
    "\n",
    "chk_brd(n) "
   ]
  },
  {
   "cell_type": "markdown",
   "metadata": {},
   "source": [
    "# 4. Normalize a 5x5 random matrix"
   ]
  },
  {
   "cell_type": "code",
   "execution_count": 4,
   "metadata": {},
   "outputs": [
    {
     "name": "stdout",
     "output_type": "stream",
     "text": [
      "Original matrix:\n",
      "\n",
      "[[0.54047339 0.02104684 0.07562123 0.58271555 0.22974963]\n",
      " [0.96503441 0.34661553 0.98138169 0.03833675 0.08828556]\n",
      " [0.81223811 0.85929358 0.66881282 0.44696858 0.98290425]\n",
      " [0.44100696 0.35366251 0.75069902 0.8009693  0.94338594]\n",
      " [0.88531349 0.41668338 0.06274787 0.6076811  0.37815412]]\n",
      "\n",
      "Normalized matrix:\n",
      "\n",
      "[[0.54002448 0.         0.05673855 0.58394177 0.21697894]\n",
      " [0.98142153 0.33847916 0.99841706 0.01797555 0.06990509]\n",
      " [0.82256607 0.87148753 0.67345323 0.44281173 1.        ]\n",
      " [0.4366137  0.34580559 0.75858664 0.81085039 0.95891459]\n",
      " [0.89853926 0.41132556 0.04335469 0.60989732 0.37126842]]\n"
     ]
    }
   ],
   "source": [
    "x= np.random.random((5,5))\n",
    "print(\"Original matrix:\\n\")\n",
    "print(x)\n",
    "\n",
    "x_max, x_min = x.max(), x.min()\n",
    "\n",
    "x = (x - x_min)/(x_max - x_min)\n",
    "print(\"\\nNormalized matrix:\\n\")\n",
    "\n",
    "print(x)"
   ]
  },
  {
   "cell_type": "markdown",
   "metadata": {},
   "source": [
    "# 5.  How to find common values between two arrays?"
   ]
  },
  {
   "cell_type": "code",
   "execution_count": 5,
   "metadata": {},
   "outputs": [
    {
     "name": "stdout",
     "output_type": "stream",
     "text": [
      "Array1:  [ 0 10 20 40 60]\n",
      "Array2:  [10, 30, 40]\n",
      "\n",
      "Common values between two arrays are:\n",
      "[10 40]\n"
     ]
    }
   ],
   "source": [
    "a1 = np.array([0, 10, 20, 40, 60])\n",
    "print(\"Array1: \",a1)\n",
    "\n",
    "a2 = [10, 30, 40]\n",
    "print(\"Array2: \",a2)\n",
    "\n",
    "print(\"\\nCommon values between two arrays are:\")\n",
    "print(np.intersect1d(a1, a2))"
   ]
  },
  {
   "cell_type": "markdown",
   "metadata": {},
   "source": [
    "# 6.How to get the dates of yesterday, today and tomorrow?"
   ]
  },
  {
   "cell_type": "code",
   "execution_count": 6,
   "metadata": {},
   "outputs": [
    {
     "name": "stdout",
     "output_type": "stream",
     "text": [
      "Yesterday :  2020-07-27\n",
      "Today :  2020-07-28\n",
      "Tomorrow :  2020-07-29\n"
     ]
    }
   ],
   "source": [
    "import datetime \n",
    "\n",
    "today = datetime.date.today()\n",
    "\n",
    "yesterday = today - datetime.timedelta(days = 1)\n",
    "\n",
    "tomorrow = today + datetime.timedelta(days = 1) \n",
    "\n",
    "print('Yesterday : ',yesterday)\n",
    "print('Today : ',today)\n",
    "print('Tomorrow : ',tomorrow)\n"
   ]
  },
  {
   "cell_type": "markdown",
   "metadata": {},
   "source": [
    "# 7. Consider two random array A and B, check if they are equal"
   ]
  },
  {
   "cell_type": "code",
   "execution_count": 7,
   "metadata": {},
   "outputs": [
    {
     "name": "stdout",
     "output_type": "stream",
     "text": [
      "Arrays are equal\n"
     ]
    }
   ],
   "source": [
    "def Equal(a1, a2, x, y):\n",
    "    if (x != y): \n",
    "        return False; \n",
    "  \n",
    "    a1.sort(); \n",
    "    a2.sort(); \n",
    "  \n",
    "    for i in range(0, x - 1): \n",
    "        if (a1[i] != a2[i]):\n",
    "            return False;\n",
    "  \n",
    "    \n",
    "    return True; \n",
    "\n",
    "a1 = [1,2,6,4,7]; \n",
    "a2 = [2,4,7,6,1]; \n",
    "x = len(a1); \n",
    "y = len(a2); \n",
    "  \n",
    "if (Equal(a1, a2, x, y)): \n",
    "    print(\"Arrays are equal\"); \n",
    "else: \n",
    "    print(\"Arrays are not equal to each other\"); \n"
   ]
  },
  {
   "cell_type": "markdown",
   "metadata": {},
   "source": [
    "# 8.Create random vector of size 10 and replace the maximum value by 0 "
   ]
  },
  {
   "cell_type": "code",
   "execution_count": 8,
   "metadata": {},
   "outputs": [
    {
     "name": "stdout",
     "output_type": "stream",
     "text": [
      "Original array:\n",
      "\n",
      "[0.83985672 0.8186399  0.09373961 0.11653132 0.88210355 0.08743134\n",
      " 0.86580652 0.34731652 0.87986818 0.76451162]\n",
      "\n",
      "Maximum value replaced by 0:\n",
      "\n",
      "[0.83985672 0.8186399  0.09373961 0.11653132 0.         0.08743134\n",
      " 0.86580652 0.34731652 0.87986818 0.76451162]\n"
     ]
    }
   ],
   "source": [
    "a = np.random.random(10)\n",
    "print(\"Original array:\\n\")\n",
    "print(a)\n",
    "\n",
    "a[a.argmax()] = 0\n",
    "print(\"\\nMaximum value replaced by 0:\\n\")\n",
    "print(a)"
   ]
  },
  {
   "cell_type": "markdown",
   "metadata": {},
   "source": [
    "# 9. How to print all the values of an array?"
   ]
  },
  {
   "cell_type": "code",
   "execution_count": 9,
   "metadata": {},
   "outputs": [
    {
     "name": "stdout",
     "output_type": "stream",
     "text": [
      "[[0. 0. 0. 0. 0.]\n",
      " [0. 0. 0. 0. 0.]\n",
      " [0. 0. 0. 0. 0.]\n",
      " [0. 0. 0. 0. 0.]\n",
      " [0. 0. 0. 0. 0.]]\n"
     ]
    }
   ],
   "source": [
    "np.set_printoptions(threshold=float(\"inf\"))\n",
    "a = np.zeros((5,5))\n",
    "print(a)"
   ]
  },
  {
   "cell_type": "markdown",
   "metadata": {},
   "source": [
    "# 10.Subtract the mean of each row of a matrix"
   ]
  },
  {
   "cell_type": "code",
   "execution_count": 10,
   "metadata": {},
   "outputs": [
    {
     "name": "stdout",
     "output_type": "stream",
     "text": [
      "Original matrix:\n",
      "\n",
      "[[0.51224165 0.20049259 0.93697945 0.59073375]\n",
      " [0.17077423 0.96446628 0.44028328 0.69852251]\n",
      " [0.95027379 0.71201703 0.16699249 0.39439316]\n",
      " [0.92354246 0.19490712 0.37737624 0.28834894]]\n",
      "\n",
      "Subtract the mean of each row of the said matrix:\n",
      "\n",
      "[[-0.04787021 -0.35961927  0.37686759  0.03062189]\n",
      " [-0.39773734  0.39595471 -0.1282283   0.13001093]\n",
      " [ 0.39435467  0.15609791 -0.38892663 -0.16152596]\n",
      " [ 0.47749877 -0.25113657 -0.06866745 -0.15769475]]\n"
     ]
    }
   ],
   "source": [
    "print(\"Original matrix:\\n\")\n",
    "\n",
    "X = np.random.rand(4,4)\n",
    "print(X)\n",
    "\n",
    "print(\"\\nSubtract the mean of each row of the said matrix:\\n\")\n",
    "Y = X - X.mean(axis=1, keepdims=True)\n",
    "print(Y)"
   ]
  },
  {
   "cell_type": "markdown",
   "metadata": {},
   "source": [
    "# 11.Consider a given vector, how to add 1 to each element indexed by a second vector (be careful with repeated indices)? "
   ]
  },
  {
   "cell_type": "code",
   "execution_count": 11,
   "metadata": {},
   "outputs": [
    {
     "name": "stdout",
     "output_type": "stream",
     "text": [
      "[1. 5. 3. 5. 1.]\n",
      "[1. 9. 5. 9. 1.]\n"
     ]
    }
   ],
   "source": [
    "a = np.ones(5)\n",
    "b = np.random.randint(0,len(a),10)\n",
    "a += np.bincount(b, minlength=len(a))\n",
    "print(a)\n",
    "\n",
    "\n",
    "np.add.at(a, b, 1)\n",
    "print(a)"
   ]
  },
  {
   "cell_type": "markdown",
   "metadata": {},
   "source": [
    "# 12.How to get the diagonal of a dot product?"
   ]
  },
  {
   "cell_type": "code",
   "execution_count": 12,
   "metadata": {},
   "outputs": [
    {
     "name": "stdout",
     "output_type": "stream",
     "text": [
      "Dot product is :  93\n"
     ]
    }
   ],
   "source": [
    "import numpy as np\n",
    "a = [1,7,6]\n",
    "b = [4,5,9]\n",
    "dot_product = np.dot(a,b)\n",
    "print('Dot product is : ' , dot_product)"
   ]
  },
  {
   "cell_type": "markdown",
   "metadata": {},
   "source": [
    "# 13.How to find the most frequent value in an array?"
   ]
  },
  {
   "cell_type": "code",
   "execution_count": 13,
   "metadata": {},
   "outputs": [
    {
     "name": "stdout",
     "output_type": "stream",
     "text": [
      "4\n"
     ]
    }
   ],
   "source": [
    "import statistics \n",
    "\n",
    "from statistics import mode \n",
    "  \n",
    "def most_common(List): \n",
    "    return(mode(List)) \n",
    "    \n",
    "List = [1,4,2,3,4,3,6,3,4,1,7,3,5,4,9,4] \n",
    "print(most_common(List)) \n"
   ]
  },
  {
   "cell_type": "markdown",
   "metadata": {},
   "source": [
    "# 14.How to get the n largest values of an array"
   ]
  },
  {
   "cell_type": "code",
   "execution_count": 14,
   "metadata": {},
   "outputs": [
    {
     "name": "stdout",
     "output_type": "stream",
     "text": [
      "Original array:\n",
      "[0 1 2 3 4 5 6 7 8 9]\n",
      "[9]\n"
     ]
    }
   ],
   "source": [
    "a = np.arange(10)\n",
    "print(\"Original array:\")\n",
    "print(a)\n",
    "np.random.shuffle(a)\n",
    "n = 1\n",
    "print (a[np.argsort(a)[-n:]])"
   ]
  },
  {
   "cell_type": "markdown",
   "metadata": {},
   "source": [
    "# 15.How to create a record array from a regular array?"
   ]
  },
  {
   "cell_type": "code",
   "execution_count": 15,
   "metadata": {},
   "outputs": [
    {
     "name": "stdout",
     "output_type": "stream",
     "text": [
      "Original arrays:\n",
      "[['Delhi' '10000' '150000']\n",
      " ['Bihar' '13000' '15000']\n",
      " ['Tamil Nadu' '54000' '150000']]\n",
      "\n",
      "Record array:\n",
      "\n",
      "[(b'Delhi', 10000., 150000) (b'Bihar', 13000.,  15000)\n",
      " (b'Tamil Nadu', 54000., 150000)]\n"
     ]
    }
   ],
   "source": [
    "a1 = np.array([(\"Delhi\", 10000, 150000),\n",
    "                 (\"Bihar\", 13000, 15000),\n",
    "             (\"Tamil Nadu\", 54000, 150000)])\n",
    "print(\"Original arrays:\")\n",
    "print(a1)\n",
    "\n",
    "print(\"\\nRecord array:\\n\")\n",
    "result = np.core.records.fromarrays(a1.T,\n",
    "                              names='col1, col2, col3',\n",
    "                              formats = 'S80, f8, i8')\n",
    "print(result)"
   ]
  }
 ],
 "metadata": {
  "kernelspec": {
   "display_name": "Python 3",
   "language": "python",
   "name": "python3"
  },
  "language_info": {
   "codemirror_mode": {
    "name": "ipython",
    "version": 3
   },
   "file_extension": ".py",
   "mimetype": "text/x-python",
   "name": "python",
   "nbconvert_exporter": "python",
   "pygments_lexer": "ipython3",
   "version": "3.7.6"
  }
 },
 "nbformat": 4,
 "nbformat_minor": 2
}
