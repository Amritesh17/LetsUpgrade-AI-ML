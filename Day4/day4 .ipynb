{
 "cells": [
  {
   "cell_type": "markdown",
   "metadata": {},
   "source": [
    "# Day 4 Assignment"
   ]
  },
  {
   "cell_type": "markdown",
   "metadata": {},
   "source": [
    "__Q1. Research on whether addition, subtraction, multiplication, division, floor division and modulooperations be performed on complex numbers. Based on your study, implement a Pythonprogram to demonstrate these operations.__"
   ]
  },
  {
   "cell_type": "code",
   "execution_count": 1,
   "metadata": {},
   "outputs": [
    {
     "name": "stdout",
     "output_type": "stream",
     "text": [
      "Addition of two compelex no. is: (6+30j)\n",
      "Subtraction of two compelex no. is: (2+10j)\n"
     ]
    },
    {
     "data": {
      "text/plain": [
       "(2+0j)"
      ]
     },
     "execution_count": 1,
     "metadata": {},
     "output_type": "execute_result"
    }
   ],
   "source": [
    "a = 4 + 20j\n",
    "b = 2 + 10j\n",
    "\n",
    "# Addition\n",
    "\n",
    "print('Addition of two compelex no. is:', a + b)\n",
    "\n",
    "#Subtraction\n",
    "\n",
    "print('Subtraction of two compelex no. is:', a - b)\n",
    "\n",
    "# Division\n",
    "c = a / b\n",
    "c    # division of complex number is possible but FLOOR value can't convert complex to float\n",
    "# print('Division of two compelex no. is:', m.floor(c))\n",
    "\n",
    "#modulo operations\n",
    "\n",
    "# d = a%b\n",
    "# d           # can't mod complex numbers."
   ]
  },
  {
   "cell_type": "markdown",
   "metadata": {},
   "source": [
    "__Q2. Research on range() functions and its parameters. Create a markdown cell and write in your ownwords (no copy-paste from google please) what you understand about it. Implement a smallprogram of your choice on the same.__\n"
   ]
  },
  {
   "cell_type": "markdown",
   "metadata": {},
   "source": [
    "The range() function returns a sequence of numbers, starting from 0 by default, and increments by 1 (by default), and stops before a specified number."
   ]
  },
  {
   "cell_type": "code",
   "execution_count": 2,
   "metadata": {},
   "outputs": [
    {
     "name": "stdout",
     "output_type": "stream",
     "text": [
      "range(0, 5)\n",
      "0\n",
      "1\n",
      "2\n",
      "3\n",
      "4\n",
      "1 3 5 7 9 "
     ]
    }
   ],
   "source": [
    "i = range(5)\n",
    "print(i)\n",
    "\n",
    "for n in range(5):\n",
    "    print (n)\n",
    "\n",
    "for a in range (1, 10, 2):\n",
    "    print(a,end = \" \")"
   ]
  },
  {
   "cell_type": "markdown",
   "metadata": {},
   "source": [
    "__Q3. Consider two numbers. Perform their subtraction and if the result of subtraction is greater than25, print their multiplication result else print their division result.__"
   ]
  },
  {
   "cell_type": "code",
   "execution_count": 3,
   "metadata": {},
   "outputs": [
    {
     "name": "stdout",
     "output_type": "stream",
     "text": [
      "Subtraction of 'a' and 'b' is: 10\n",
      "The result is less than 25.\n",
      "    So the division of 'a' and 'b' is: 2\n"
     ]
    }
   ],
   "source": [
    "a = 20 \n",
    "b = 10\n",
    "c = a-b\n",
    "print(\"Subtraction of 'a' and 'b' is:\", c)\n",
    "\n",
    "if c > 25:\n",
    "    print (\"\"\"The result is greater than 25.\n",
    "    So the multiplication is:\"\"\", a * b)\n",
    "else:\n",
    "    print(\"\"\"The result is less than 25.\n",
    "    So the division of 'a' and 'b' is:\"\"\", int(a / b))"
   ]
  },
  {
   "cell_type": "markdown",
   "metadata": {},
   "source": [
    "__Q4. Consider a list of 10 elements of integer values. If the number in the list is divisible by 2, print theresult as \"square of that number minus 2\".__"
   ]
  },
  {
   "cell_type": "code",
   "execution_count": 4,
   "metadata": {},
   "outputs": [
    {
     "name": "stdout",
     "output_type": "stream",
     "text": [
      "The number is divisible by 2.\n",
      "        The square of that number minus 2 is  98\n",
      "23 is not divisible by 2.\n",
      "45 is not divisible by 2.\n",
      "65 is not divisible by 2.\n",
      "The number is divisible by 2.\n",
      "        The square of that number minus 2 is  4898\n",
      "The number is divisible by 2.\n",
      "        The square of that number minus 2 is  6722\n",
      "47 is not divisible by 2.\n",
      "The number is divisible by 2.\n",
      "        The square of that number minus 2 is  3598\n",
      "75 is not divisible by 2.\n",
      "The number is divisible by 2.\n",
      "        The square of that number minus 2 is  7742\n"
     ]
    }
   ],
   "source": [
    "\n",
    "\n",
    "l = [10,23,45,65,70,82,47,60,75,88]\n",
    "\n",
    "for i in l:\n",
    "    m = i % 2 \n",
    "    \n",
    "    if m == 0: \n",
    "        print(\"\"\"The number is divisible by 2.\n",
    "        The square of that number minus 2 is \"\"\", (i ** 2) - 2)\n",
    "    else:\n",
    "        print(f\"{i} is not divisible by 2.\")"
   ]
  },
  {
   "cell_type": "markdown",
   "metadata": {},
   "source": [
    "__Q5. Consider a list of 10 elements. Print all the elements in the list which are greater than 7 when thatnumber is divided 2.__"
   ]
  },
  {
   "cell_type": "code",
   "execution_count": 5,
   "metadata": {},
   "outputs": [
    {
     "name": "stdout",
     "output_type": "stream",
     "text": [
      "23 is greater than 7 when it is divided 2 \n",
      "65 is greater than 7 when it is divided 2 \n",
      "70 is greater than 7 when it is divided 2 \n",
      "82 is greater than 7 when it is divided 2 \n",
      "47 is greater than 7 when it is divided 2 \n",
      "75 is greater than 7 when it is divided 2 \n"
     ]
    }
   ],
   "source": [
    "l = [1,23,4,65,70,82,47,6,75,8]\n",
    "\n",
    "for i in l:\n",
    "    m = i / 2\n",
    "    \n",
    "    if m > 7: \n",
    "        print(f\"{i} is greater than 7 when it is divided 2 \")\n",
    "    \n"
   ]
  }
 ],
 "metadata": {
  "kernelspec": {
   "display_name": "Python 3",
   "language": "python",
   "name": "python3"
  },
  "language_info": {
   "codemirror_mode": {
    "name": "ipython",
    "version": 3
   },
   "file_extension": ".py",
   "mimetype": "text/x-python",
   "name": "python",
   "nbconvert_exporter": "python",
   "pygments_lexer": "ipython3",
   "version": "3.7.6"
  }
 },
 "nbformat": 4,
 "nbformat_minor": 4
}
