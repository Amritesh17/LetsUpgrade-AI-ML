{
 "cells": [
  {
   "cell_type": "markdown",
   "metadata": {},
   "source": [
    "# Day6 Assignment "
   ]
  },
  {
   "cell_type": "markdown",
   "metadata": {},
   "source": [
    "__Q1. Assuming that we have some email addresses in the \"username@companyname.com\" format, please write programto print the company name of a given email address. Both user names and company names are composed of letters only.__"
   ]
  },
  {
   "cell_type": "code",
   "execution_count": 1,
   "metadata": {},
   "outputs": [
    {
     "name": "stdout",
     "output_type": "stream",
     "text": [
      "john@google.com\n",
      "The company name is: google "
     ]
    }
   ],
   "source": [
    "x = input()\n",
    "\n",
    "a = x.index(\"@\")\n",
    "\n",
    "print('The company name is:', x[a + 1:len(x)-4],end = ' ')"
   ]
  },
  {
   "cell_type": "markdown",
   "metadata": {},
   "source": [
    "__Q2. Write a program that accepts a comma-separated sequence of words as input and prints the words in a commaseparated sequence after sorting them alphabetically.__"
   ]
  },
  {
   "cell_type": "code",
   "execution_count": 2,
   "metadata": {},
   "outputs": [
    {
     "name": "stdout",
     "output_type": "stream",
     "text": [
      "without,hello,bag,world\n",
      "bag,hello,without,world\n"
     ]
    }
   ],
   "source": [
    "items=[n for n in input().split(',')]\n",
    "items.sort()\n",
    "print(','.join(items))"
   ]
  },
  {
   "cell_type": "markdown",
   "metadata": {},
   "source": [
    "__Q3. Create your own Jupyter Notebook for Sets.__"
   ]
  },
  {
   "cell_type": "code",
   "execution_count": 3,
   "metadata": {},
   "outputs": [
    {
     "name": "stdout",
     "output_type": "stream",
     "text": [
      "{'cherry', 'banana', 'apple'}\n",
      "cherry banana apple True\n",
      "{'mango', 'cherry', 'banana', 'lichi', 'apple', 'pupaya'}\n",
      "6\n",
      "{'mango', 'cherry', 'lichi', 'apple', 'pupaya'}\n",
      "mango\n",
      "{'cherry', 'lichi', 'apple', 'pupaya'}\n",
      "{'Onion', 'Eggplant', 'cherry', 'Tamato', 'Patato', 'apple', 'lichi', 'pupaya'}\n",
      "set()\n"
     ]
    }
   ],
   "source": [
    "fruits = {\"apple\", \"banana\", \"cherry\"}\n",
    "print(fruits) \n",
    "\n",
    "for x in fruits:\n",
    "    print(x, end = ' ') \n",
    "    \n",
    "print(\"banana\" in fruits) #Check if \"banana\" is present in the set\n",
    "\n",
    "fruits.add(\"mango\") #Add an item to a set, using the add() method\n",
    "\n",
    "fruits.update([\"lichi\", \"mango\", \"pupaya\"]) #Add multiple items to a set, using the update() method\n",
    "print(fruits) \n",
    "\n",
    "print(len(fruits)) #Get the number of items in a set\n",
    "\n",
    "fruits.remove(\"banana\") #Remove \"banana\" by using the remove() method\n",
    "print(fruits) \n",
    "\n",
    "x = fruits.pop()  #Remove the last item by using the pop() method\n",
    "print(x)\n",
    "print(fruits)\n",
    "\n",
    "vegetable = {\"Tamato\", \"Patato\", \"Eggplant\", \"Onion\"} #The union() method returns a new set with all items from both sets\n",
    "fruits_vegetable = fruits.union(vegetable)\n",
    "print(fruits_vegetable) \n",
    "\n",
    "fruits_vegetable.clear()\n",
    "print(fruits_vegetable) "
   ]
  },
  {
   "cell_type": "markdown",
   "metadata": {},
   "source": [
    "__Q4. Given a list of n-1 numbers ranging from 1 to n, your task is to find the missing number. There are no duplicates.__"
   ]
  },
  {
   "cell_type": "code",
   "execution_count": 4,
   "metadata": {},
   "outputs": [
    {
     "name": "stdout",
     "output_type": "stream",
     "text": [
      "[5]\n"
     ]
    }
   ],
   "source": [
    "def missing_num(num_list):\n",
    "    ol = [x for x in range(num_list[0], num_list[-1] + 1)]\n",
    "    num_list = set(num_list)\n",
    "    return (list(num_list ^ set(ol)))\n",
    "\n",
    "print(missing_num([1, 2, 4, 6, 3, 7, 8]))\n"
   ]
  },
  {
   "cell_type": "markdown",
   "metadata": {},
   "source": [
    "__Q5. With a given list L, write a program to print this list L after removing all duplicate values with original order reserved.__"
   ]
  },
  {
   "cell_type": "code",
   "execution_count": 5,
   "metadata": {},
   "outputs": [
    {
     "name": "stdout",
     "output_type": "stream",
     "text": [
      "The original list is:\n",
      " [12, 24, 35, 24, 88, 120, 155, 88, 120, 155]\n",
      "The duplicate free sorted list is: \n",
      " [12, 24, 35, 88, 120, 155]\n"
     ]
    }
   ],
   "source": [
    "l1 = [12, 24, 35, 24, 88, 120, 155, 88, 120, 155]\n",
    "print(\"The original list is:\\n\" , l1)\n",
    "\n",
    "l2 = []\n",
    "\n",
    "for i in l1:\n",
    "    if i not in l2:\n",
    "        l2.append(i)\n",
    "print(\"The duplicate free sorted list is: \\n\", l2)"
   ]
  }
 ],
 "metadata": {
  "kernelspec": {
   "display_name": "Python 3",
   "language": "python",
   "name": "python3"
  },
  "language_info": {
   "codemirror_mode": {
    "name": "ipython",
    "version": 3
   },
   "file_extension": ".py",
   "mimetype": "text/x-python",
   "name": "python",
   "nbconvert_exporter": "python",
   "pygments_lexer": "ipython3",
   "version": "3.7.6"
  }
 },
 "nbformat": 4,
 "nbformat_minor": 4
}
