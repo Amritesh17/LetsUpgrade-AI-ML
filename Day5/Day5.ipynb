{
 "cells": [
  {
   "cell_type": "markdown",
   "metadata": {},
   "source": [
    "# Day5 Assignment"
   ]
  },
  {
   "cell_type": "markdown",
   "metadata": {},
   "source": [
    "__Q1. Write a Python program to find the first 20 non-even prime natural numbers.__"
   ]
  },
  {
   "cell_type": "code",
   "execution_count": 1,
   "metadata": {},
   "outputs": [
    {
     "name": "stdout",
     "output_type": "stream",
     "text": [
      "Prime numbers between 2 and 75\n",
      "3\n",
      "5\n",
      "7\n",
      "11\n",
      "13\n",
      "17\n",
      "19\n",
      "23\n",
      "29\n",
      "31\n",
      "37\n",
      "41\n",
      "43\n",
      "47\n",
      "53\n",
      "59\n",
      "61\n",
      "67\n",
      "71\n",
      "73\n"
     ]
    }
   ],
   "source": [
    "num = int(input(\"Prime numbers between 2 and \"))\n",
    "for n in range(3,num, 1):\n",
    "    if n > 1:\n",
    "        for i in range(2,n):\n",
    "            if (n % i) == 0:\n",
    "                break\n",
    "        else:\n",
    "            print(n)                                     "
   ]
  },
  {
   "cell_type": "markdown",
   "metadata": {},
   "source": [
    "__Q2. Write a Python program to implement 15 functions of string.__"
   ]
  },
  {
   "cell_type": "code",
   "execution_count": 2,
   "metadata": {},
   "outputs": [
    {
     "name": "stdout",
     "output_type": "stream",
     "text": [
      "Aiml course\n",
      "aiml course\n",
      "False\n",
      "    aiMl Course     \n",
      "AIML COURSE\n",
      "aiMl Course\n",
      "banana\n",
      "['apple', 'mango', 'banana', 'cherry', 'orange']\n",
      "['apple', 'banana', 'cherry', 'orange', 'mango']\n",
      "2020\n",
      "{'name': 'DEATH an inside story', 'writter': 'Swami Nisarga', 'year': 2020}\n",
      "{'name': 'DEATH an inside story', 'writter': 'Swami Nisarga', 'year': 2020, 'Publication': 'Penguin'}\n",
      "dict_values(['DEATH an inside story', 'Swami Nisarga', 2020, 'Penguin'])\n"
     ]
    }
   ],
   "source": [
    "a = 'aiMl Course'\n",
    "\n",
    "x = a.capitalize() #Converts the first character to upper case\n",
    "print(x)\n",
    "\n",
    "x = a.casefold() #Converts string into lower case\n",
    "print(x)\n",
    "\n",
    "x = a.isupper() #The isupper() method returns True if all the characters are in upper case, otherwise False.\n",
    "print(x)\n",
    "\n",
    "x = a.center(20) #The center() method will center align the string, using a specified character (space is default) as the fill character.\n",
    "print(x)\n",
    "\n",
    "x = a.upper() #The upper() method returns a string where all characters are in upper case.\n",
    "print(x)\n",
    "\n",
    "x = a.zfill(10) #The zfill() method adds zeros (0) at the beginning of the string, until it reaches the specified length.\n",
    "print(x)        #If the value of the len parameter is less than the length of the string, no filling is done.\n",
    "\n",
    "fruits = ['apple', 'banana', 'cherry', 'orange']\n",
    "fruits.clear() #The clear() method removes all the elements from a list.\n",
    "\n",
    "fruits = ['apple', 'banana', 'cherry', 'orange']\n",
    "x = fruits.pop(1) #The pop() method removes the element at the specified position.\n",
    "print (x)\n",
    "\n",
    "fruits = ['apple', 'banana', 'cherry', 'orange']\n",
    "y = fruits.insert(1, \"mango\") #The insert() method inserts the specified value at the specified position.\n",
    "print(fruits)\n",
    "\n",
    "x = fruits.count(\"cherry\") #The count() method returns the number of elements with the specified value.\n",
    "\n",
    "fruits = ['apple', 'banana', 'cherry', 'orange']\n",
    "fruits.append(\"mango\")   #The append() method appends an element to the end of the list.\n",
    "print(fruits)\n",
    "\n",
    "book = {\n",
    "  \"name\": \"DEATH an inside story\",\n",
    "  \"writter\": \"Swami Nisarga\",\n",
    "  \"year\": 2020\n",
    "}\n",
    "\n",
    "x = book.get(\"year\")  #The get() method returns the value of the item with the specified key.\n",
    "print(x) \n",
    "\n",
    "x = book.copy()  #The copy() method returns a copy of the specified dictionary.\n",
    "print(x) \n",
    "\n",
    "book.update({\"Publication\": \"Penguin\"})  #The update() method inserts the specified items to the dictionary.\n",
    "print(book)         #The specified items can be a dictionary, or an iterable object.\n",
    "\n",
    "x = book.values() #The values() method returns a view object. The view object contains the values of the dictionary, as a list.\n",
    "print(x)   #The view object will reflect any changes done to the dictionary, see example below.\n"
   ]
  },
  {
   "cell_type": "markdown",
   "metadata": {},
   "source": [
    "__Q3. Write a Python program to check if the given string is a Palindrome or Anagram or None of them.Display the message accordingly to the user.__"
   ]
  },
  {
   "cell_type": "code",
   "execution_count": 1,
   "metadata": {},
   "outputs": [
    {
     "name": "stdout",
     "output_type": "stream",
     "text": [
      "Enter the string a1:hello\n",
      "Enter the string a2:yello\n",
      "String is not anagram\n",
      "Enter any number:121\n",
      "number is palindrome\n"
     ]
    }
   ],
   "source": [
    "def ispald():\n",
    "    str = input('Enter any number:')\n",
    "    if str == str[:: -1]:\n",
    "        print('number is palindrome')\n",
    "    else:\n",
    "        print('number is not palindrome')\n",
    "\n",
    "def isAnag(a1, a2):\n",
    "    return sorted(a1) == sorted(a2)\n",
    "a1 = input('Enter the string a1:')\n",
    "a2 = input('Enter the string a2:')\n",
    "\n",
    "\n",
    "if isAnag(a1,a2):\n",
    "    print('String is anagram')\n",
    "else:\n",
    "    print('String is not anagram')\n",
    "\n",
    "ispald()\n"
   ]
  },
  {
   "cell_type": "markdown",
   "metadata": {},
   "source": [
    "__Q4. Write a Python's user defined function that removes all the additional characters from the stringand converts it finally to lower case using built-in lower(). eg: If the string is \"Dr. Darshan Ingle@AI-ML Trainer\", then the output be \"drdarshaningleaimltrainer\".__"
   ]
  },
  {
   "cell_type": "code",
   "execution_count": 4,
   "metadata": {},
   "outputs": [
    {
     "name": "stdout",
     "output_type": "stream",
     "text": [
      "Original String : Dr. Darshan lngle @AI-ML Trainer\n",
      "drdarshanlngleaimltrainer\n"
     ]
    }
   ],
   "source": [
    "def remove(string): \n",
    "    return string.replace(\" \", \"\") \n",
    "\n",
    "undesired_chars = ['!', '@', '#', '$','%','^', '&', '*','(',')','_','-','+','=',',','<','>','.','?','/'] \n",
    "input_string = \"Dr. Darshan lngle @AI-ML Trainer\"\n",
    "print (\"Original String : \" + input_string) \n",
    "for i in undesired_chars : \n",
    "    input_string = input_string.replace(i, '') \n",
    "\n",
    "print(remove(input_string.lower()))\n",
    "\n",
    "    "
   ]
  }
 ],
 "metadata": {
  "kernelspec": {
   "display_name": "Python 3",
   "language": "python",
   "name": "python3"
  },
  "language_info": {
   "codemirror_mode": {
    "name": "ipython",
    "version": 3
   },
   "file_extension": ".py",
   "mimetype": "text/x-python",
   "name": "python",
   "nbconvert_exporter": "python",
   "pygments_lexer": "ipython3",
   "version": "3.7.6"
  }
 },
 "nbformat": 4,
 "nbformat_minor": 4
}
