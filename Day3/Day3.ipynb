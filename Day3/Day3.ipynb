{
 "cells": [
  {
   "cell_type": "markdown",
   "metadata": {},
   "source": [
    "# Day3 Assignment "
   ]
  },
  {
   "cell_type": "markdown",
   "metadata": {},
   "source": [
    "__Q1. Write a program to subtract two complex numbers in Python.__"
   ]
  },
  {
   "cell_type": "code",
   "execution_count": 1,
   "metadata": {},
   "outputs": [
    {
     "name": "stdout",
     "output_type": "stream",
     "text": [
      "Subtraction result is (1+1j)\n"
     ]
    }
   ],
   "source": [
    "a = 3 + 2j\n",
    "b = 2 + 1j\n",
    "\n",
    "c = a - b\n",
    "\n",
    "print (\"Subtraction result is\", c)"
   ]
  },
  {
   "cell_type": "markdown",
   "metadata": {},
   "source": [
    "__Q2. Write a program to find the fourth root of a number.__"
   ]
  },
  {
   "cell_type": "code",
   "execution_count": 4,
   "metadata": {},
   "outputs": [
    {
     "name": "stdout",
     "output_type": "stream",
     "text": [
      "The fourth root num is:  3.0714786556407327\n"
     ]
    }
   ],
   "source": [
    "num = 89\n",
    "\n",
    "print(\"The fourth root num is: \", (num**(1/4)))"
   ]
  },
  {
   "cell_type": "markdown",
   "metadata": {},
   "source": [
    "__Q3. Write a program to swap two numbers in Python with the help of a temporary variable.__"
   ]
  },
  {
   "cell_type": "code",
   "execution_count": 6,
   "metadata": {},
   "outputs": [
    {
     "name": "stdout",
     "output_type": "stream",
     "text": [
      "The swaped value of 'a' is: 5\n",
      "The swaped value of 'b' is: 17\n"
     ]
    }
   ],
   "source": [
    "a = 17\n",
    "b = 5\n",
    "\n",
    "temp = b\n",
    "b = a \n",
    "a = temp\n",
    "\n",
    "print(\"The swaped value of 'a' is:\", a)\n",
    "print(\"The swaped value of 'b' is:\", b)\n"
   ]
  },
  {
   "cell_type": "markdown",
   "metadata": {},
   "source": [
    "__Q4. Write a program to swap two numbers in Python without using a temporary variable.__"
   ]
  },
  {
   "cell_type": "code",
   "execution_count": 7,
   "metadata": {},
   "outputs": [
    {
     "name": "stdout",
     "output_type": "stream",
     "text": [
      "The swaped value of 'a' is: 5\n",
      "The swaped value of 'b' is: 17\n"
     ]
    }
   ],
   "source": [
    "a = 17\n",
    "b = 5\n",
    "\n",
    "a,b = b,a\n",
    "\n",
    "print(\"The swaped value of 'a' is:\", a)\n",
    "print(\"The swaped value of 'b' is:\", b)\n",
    "\n"
   ]
  },
  {
   "cell_type": "markdown",
   "metadata": {},
   "source": [
    "__Q5. Write a program to convert fahrenheit to kelvin and celsius both.__"
   ]
  },
  {
   "cell_type": "code",
   "execution_count": 8,
   "metadata": {},
   "outputs": [
    {
     "name": "stdout",
     "output_type": "stream",
     "text": [
      "The temperature in Celsius is: 36.66666666666667\n",
      "The temperature in Kelvin is: 309.81666666666666\n"
     ]
    }
   ],
   "source": [
    "fahrenheit = 98\n",
    "celsius = (fahrenheit - 32) * (5/9)\n",
    "kelvin = ((fahrenheit -32)/1.800) + 273.15\n",
    "\n",
    "print(\"The temperature in Celsius is:\", celsius)\n",
    "print(\"The temperature in Kelvin is:\", kelvin)"
   ]
  },
  {
   "cell_type": "markdown",
   "metadata": {},
   "source": [
    "__Q6. Write a program to demonstrate all the available data types in Python. Hint: Use type() function.__"
   ]
  },
  {
   "cell_type": "code",
   "execution_count": 25,
   "metadata": {},
   "outputs": [
    {
     "name": "stdout",
     "output_type": "stream",
     "text": [
      "<class 'str'>\n",
      "<class 'int'>\n",
      "<class 'float'>\n",
      "<class 'complex'>\n",
      "<class 'tuple'>\n",
      "<class 'list'>\n",
      "<class 'dict'>\n",
      "<class 'set'>\n",
      "<class 'bool'>\n",
      "<class 'bytes'>\n",
      "<memory at 0x7f1480f672c0>\n",
      "<class 'memoryview'>\n"
     ]
    }
   ],
   "source": [
    "a = \"Hello World\"\n",
    "print(type(a))\n",
    "\n",
    "b = 20\n",
    "print(type(b))\n",
    "\n",
    "c = 20.665\n",
    "print(type(c))\n",
    "\n",
    "d = 1+1j\n",
    "print(type(d))\n",
    "\n",
    "e = (\"apple\", \"banana\", \"orange\") \n",
    "print(type(e))\n",
    "\n",
    "f = [\"apple\", \"mango\", \"orange\"]\n",
    "print(type(f))\n",
    "\n",
    "h = dict(name=\"John\", age=36)\n",
    "print(type(h))\n",
    "\n",
    "i = {\"apple\", \"banana\", \"cherry\"}\n",
    "print(type(i))\n",
    "\n",
    "k = bool(5)\n",
    "print(type(k))\n",
    "\n",
    "l = bytes(5)\n",
    "print(type(l))\n",
    "\n",
    "n = memoryview(bytes(5))\n",
    "print(n)\n",
    "print(type(n))"
   ]
  },
  {
   "cell_type": "markdown",
   "metadata": {},
   "source": [
    "__Q8. Create a Markdown cell in jupyter and list the steps discussed in the session by Dr. DarshanIngle sir to create Github profile and upload Githubs Assignment link__"
   ]
  },
  {
   "cell_type": "markdown",
   "metadata": {},
   "source": [
    "__Step1__: Go to https://github.com/join in a web browser.\n",
    "\n",
    "__Step2__: Enter your personal details.\n",
    "\n",
    "__Step3__: Click on __New__ and create a new repository as __LetsUpgrage AI-ML__ and leave it as public.\n",
    "\n",
    "__Step4__: Click on __create repository__.\n",
    "\n",
    "__Step5__: Once the folder is created, click on __upload an existing file__ and then drag and drop the folder.\n",
    "\n",
    "__Step6__: Click on __commit changes.__"
   ]
  },
  {
   "cell_type": "code",
   "execution_count": null,
   "metadata": {},
   "outputs": [],
   "source": []
  }
 ],
 "metadata": {
  "kernelspec": {
   "display_name": "Python 3",
   "language": "python",
   "name": "python3"
  },
  "language_info": {
   "codemirror_mode": {
    "name": "ipython",
    "version": 3
   },
   "file_extension": ".py",
   "mimetype": "text/x-python",
   "name": "python",
   "nbconvert_exporter": "python",
   "pygments_lexer": "ipython3",
   "version": "3.7.6"
  }
 },
 "nbformat": 4,
 "nbformat_minor": 4
}
